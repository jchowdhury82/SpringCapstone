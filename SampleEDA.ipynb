{
 "cells": [
  {
   "cell_type": "markdown",
   "metadata": {},
   "source": [
    "# Cars Dataset EDA"
   ]
  },
  {
   "cell_type": "markdown",
   "metadata": {},
   "source": [
    "## Problem description: To predict a price of a car listing\n",
    "\n",
    "## Source Dataset :  1.2m used car listings from Kaggle\n",
    "\n",
    "## EDA Objectives: \n",
    "\n",
    "### Pass 1\n",
    "\n",
    "1. Explore and describe the features - data types, ranges, basic statistical information like means, SD, sparsity, skeness etc.\n",
    "2. Discard attributes that would not contribute to the prediction of prices\n",
    "3. Explore the range of population data set and determine if a working sample can be extracted by dropping some records\n",
    "4. Explore the dependent attribute : Price.  Determine Missing Values, Outliers, other statistical info.\n",
    "5. Explore the interesting independent attributes: Determine Missing Values, Outliers, other statistical info.\n",
    "6. Perform conversions from Categorical to Numerical data for modelling.\n",
    "7. Deterine the need of normalization, scaling.\n",
    "8. Finalize first pass of feature selection \n",
    "9. Execute a basic model and determine results.\n",
    "\n",
    "\n"
   ]
  },
  {
   "cell_type": "code",
   "execution_count": 1,
   "metadata": {},
   "outputs": [],
   "source": [
    "import warnings\n",
    "warnings.simplefilter(action='ignore', category=FutureWarning)\n",
    "import pandas as pd\n",
    "pd.set_option('display.max_colwidth',None)\n",
    "pd.set_option('display.float_format', lambda x: '%.2f' % x)\n",
    "import matplotlib.pyplot as plt\n",
    "import seaborn as sns\n",
    "from pandas_profiling import ProfileReport\n",
    "from sklearn.preprocessing import MinMaxScaler \n",
    "from scipy.stats import iqr"
   ]
  },
  {
   "cell_type": "code",
   "execution_count": 2,
   "metadata": {},
   "outputs": [],
   "source": [
    "# Helper function\n",
    "def findcolumntypes(dataframe):\n",
    "    assert isinstance(dataframe,pd.DataFrame)\n",
    "    allcolumns = dataframe.columns.to_list()\n",
    "    numericals = dataframe._get_numeric_data().columns.to_list()\n",
    "    categoricals = list(set(allcolumns) - set(numericals))\n",
    "    collist =  dict(numeric = numericals,  categorical = categoricals)\n",
    "    return collist"
   ]
  },
  {
   "cell_type": "markdown",
   "metadata": {},
   "source": [
    "### Read used car data as csv and explore basic structure about the data set"
   ]
  },
  {
   "cell_type": "code",
   "execution_count": 3,
   "metadata": {},
   "outputs": [],
   "source": [
    "# read the cars data from csv\n",
    "df = pd.read_csv('C:\\\\Users\\\\jchowdhury\\\\Downloads\\\\Cars\\\\vehicles.csv',encoding = \"ISO-8859-1\")"
   ]
  },
  {
   "cell_type": "markdown",
   "metadata": {},
   "source": [
    "### Step 1: Explore and describe the features - data types, ranges, basic statistical information like means, SD, sparsity, skeness etc."
   ]
  },
  {
   "cell_type": "code",
   "execution_count": 4,
   "metadata": {},
   "outputs": [
    {
     "data": {
      "text/plain": [
       "435849"
      ]
     },
     "execution_count": 4,
     "metadata": {},
     "output_type": "execute_result"
    }
   ],
   "source": [
    "# Number of examples\n",
    "len(df)"
   ]
  },
  {
   "cell_type": "code",
   "execution_count": 5,
   "metadata": {},
   "outputs": [
    {
     "data": {
      "text/html": [
       "<div>\n",
       "<style scoped>\n",
       "    .dataframe tbody tr th:only-of-type {\n",
       "        vertical-align: middle;\n",
       "    }\n",
       "\n",
       "    .dataframe tbody tr th {\n",
       "        vertical-align: top;\n",
       "    }\n",
       "\n",
       "    .dataframe thead th {\n",
       "        text-align: right;\n",
       "    }\n",
       "</style>\n",
       "<table border=\"1\" class=\"dataframe\">\n",
       "  <thead>\n",
       "    <tr style=\"text-align: right;\">\n",
       "      <th></th>\n",
       "      <th>id</th>\n",
       "      <th>url</th>\n",
       "      <th>region</th>\n",
       "      <th>region_url</th>\n",
       "      <th>price</th>\n",
       "      <th>year</th>\n",
       "      <th>manufacturer</th>\n",
       "      <th>model</th>\n",
       "      <th>condition</th>\n",
       "      <th>cylinders</th>\n",
       "      <th>...</th>\n",
       "      <th>drive</th>\n",
       "      <th>size</th>\n",
       "      <th>type</th>\n",
       "      <th>paint_color</th>\n",
       "      <th>image_url</th>\n",
       "      <th>description</th>\n",
       "      <th>county</th>\n",
       "      <th>state</th>\n",
       "      <th>lat</th>\n",
       "      <th>long</th>\n",
       "    </tr>\n",
       "  </thead>\n",
       "  <tbody>\n",
       "    <tr>\n",
       "      <th>0</th>\n",
       "      <td>7119256118</td>\n",
       "      <td>https://mohave.craigslist.org/ctd/d/lake-havasu-city-2012-jeep-patriot/7119256118.html</td>\n",
       "      <td>mohave county</td>\n",
       "      <td>https://mohave.craigslist.org</td>\n",
       "      <td>3495</td>\n",
       "      <td>2012.00</td>\n",
       "      <td>jeep</td>\n",
       "      <td>patriot</td>\n",
       "      <td>like new</td>\n",
       "      <td>4 cylinders</td>\n",
       "      <td>...</td>\n",
       "      <td>NaN</td>\n",
       "      <td>NaN</td>\n",
       "      <td>NaN</td>\n",
       "      <td>silver</td>\n",
       "      <td>https://images.craigslist.org/00B0B_k2AXIJ21okg_600x450.jpg</td>\n",
       "      <td>THIS 2012 JEEP PATRIOT IS A 4CYL. AC, STEREO, RUNS GREAT AND IS CLEAN! GREAT ON GAS. 132K MILES, $3495. COME SEE IT AT TOP NOTCH AUTO AZ IN LHC. WE BUY, SELL &amp; TRADE. TED, (951) 712-9436. GIVE US A CALL FOR MORE INFO!</td>\n",
       "      <td>nan</td>\n",
       "      <td>az</td>\n",
       "      <td>34.46</td>\n",
       "      <td>-114.27</td>\n",
       "    </tr>\n",
       "    <tr>\n",
       "      <th>1</th>\n",
       "      <td>7120880186</td>\n",
       "      <td>https://oregoncoast.craigslist.org/cto/d/warrenton-2014-bmw-328i-sport-package/7120880186.html</td>\n",
       "      <td>oregon coast</td>\n",
       "      <td>https://oregoncoast.craigslist.org</td>\n",
       "      <td>13750</td>\n",
       "      <td>2014.00</td>\n",
       "      <td>bmw</td>\n",
       "      <td>328i m-sport</td>\n",
       "      <td>good</td>\n",
       "      <td>NaN</td>\n",
       "      <td>...</td>\n",
       "      <td>rwd</td>\n",
       "      <td>NaN</td>\n",
       "      <td>sedan</td>\n",
       "      <td>grey</td>\n",
       "      <td>https://images.craigslist.org/00U0U_3cLk0WGOJ8Z_600x450.jpg</td>\n",
       "      <td>Selling my 2014 BMW 328i with the following bells and whistles: - M-Sport package (M-sport spoiler, trim, steering wheel, seats, suspension, wheels, transmission, etc) - Tech package - Navigation - Backup Cam - Park Assist - Heads up display (speed and notifications displayed on windshield)  New rear brakes about seven months ago, new front brakes a few months ago (and the car's mostly been unused since then).  New tires within the past year.    Selling as-is.  The check engine light is currently on, and I had Graf's run the codes TODAY, which showed an issue with the internal thermostat.  He ran it and the car was running at the proper temperature, so he thinks it's a sensor issue.  Estimate to replace is $243; I have all the paperwork.    This car is a blast to drive, and I'll miss it, but I needed something that can haul a trailer.   $13,750.00</td>\n",
       "      <td>nan</td>\n",
       "      <td>or</td>\n",
       "      <td>46.18</td>\n",
       "      <td>-123.82</td>\n",
       "    </tr>\n",
       "  </tbody>\n",
       "</table>\n",
       "<p>2 rows × 25 columns</p>\n",
       "</div>"
      ],
      "text/plain": [
       "           id  \\\n",
       "0  7119256118   \n",
       "1  7120880186   \n",
       "\n",
       "                                                                                              url  \\\n",
       "0          https://mohave.craigslist.org/ctd/d/lake-havasu-city-2012-jeep-patriot/7119256118.html   \n",
       "1  https://oregoncoast.craigslist.org/cto/d/warrenton-2014-bmw-328i-sport-package/7120880186.html   \n",
       "\n",
       "          region                          region_url  price    year  \\\n",
       "0  mohave county       https://mohave.craigslist.org   3495 2012.00   \n",
       "1   oregon coast  https://oregoncoast.craigslist.org  13750 2014.00   \n",
       "\n",
       "  manufacturer         model condition    cylinders  ... drive  size   type  \\\n",
       "0         jeep       patriot  like new  4 cylinders  ...   NaN   NaN    NaN   \n",
       "1          bmw  328i m-sport      good          NaN  ...   rwd   NaN  sedan   \n",
       "\n",
       "  paint_color                                                    image_url  \\\n",
       "0      silver  https://images.craigslist.org/00B0B_k2AXIJ21okg_600x450.jpg   \n",
       "1        grey  https://images.craigslist.org/00U0U_3cLk0WGOJ8Z_600x450.jpg   \n",
       "\n",
       "                                                                                                                                                                                                                                                                                                                                                                                                                                                                                                                                                                                                                                                                                                                                                                                                                                                                                   description  \\\n",
       "0                                                                                                                                                                                                                                                                                                                                                                                                                                                                                                                                                                                                                                                                    THIS 2012 JEEP PATRIOT IS A 4CYL. AC, STEREO, RUNS GREAT AND IS CLEAN! GREAT ON GAS. 132K MILES, $3495. COME SEE IT AT TOP NOTCH AUTO AZ IN LHC. WE BUY, SELL & TRADE. TED, (951) 712-9436. GIVE US A CALL FOR MORE INFO!   \n",
       "1  Selling my 2014 BMW 328i with the following bells and whistles: - M-Sport package (M-sport spoiler, trim, steering wheel, seats, suspension, wheels, transmission, etc) - Tech package - Navigation - Backup Cam - Park Assist - Heads up display (speed and notifications displayed on windshield)  New rear brakes about seven months ago, new front brakes a few months ago (and the car's mostly been unused since then).  New tires within the past year.    Selling as-is.  The check engine light is currently on, and I had Graf's run the codes TODAY, which showed an issue with the internal thermostat.  He ran it and the car was running at the proper temperature, so he thinks it's a sensor issue.  Estimate to replace is $243; I have all the paperwork.    This car is a blast to drive, and I'll miss it, but I needed something that can haul a trailer.   $13,750.00   \n",
       "\n",
       "  county state   lat    long  \n",
       "0    nan    az 34.46 -114.27  \n",
       "1    nan    or 46.18 -123.82  \n",
       "\n",
       "[2 rows x 25 columns]"
      ]
     },
     "execution_count": 5,
     "metadata": {},
     "output_type": "execute_result"
    }
   ],
   "source": [
    "df.head(2)"
   ]
  },
  {
   "cell_type": "code",
   "execution_count": 6,
   "metadata": {},
   "outputs": [
    {
     "name": "stdout",
     "output_type": "stream",
     "text": [
      "<class 'pandas.core.frame.DataFrame'>\n",
      "RangeIndex: 435849 entries, 0 to 435848\n",
      "Data columns (total 25 columns):\n",
      " #   Column        Non-Null Count   Dtype  \n",
      "---  ------        --------------   -----  \n",
      " 0   id            435849 non-null  int64  \n",
      " 1   url           435849 non-null  object \n",
      " 2   region        435849 non-null  object \n",
      " 3   region_url    435849 non-null  object \n",
      " 4   price         435849 non-null  int64  \n",
      " 5   year          434732 non-null  float64\n",
      " 6   manufacturer  415102 non-null  object \n",
      " 7   model         429650 non-null  object \n",
      " 8   condition     249043 non-null  object \n",
      " 9   cylinders     269465 non-null  object \n",
      " 10  fuel          432858 non-null  object \n",
      " 11  odometer      360701 non-null  float64\n",
      " 12  title_status  434043 non-null  object \n",
      " 13  transmission  433703 non-null  object \n",
      " 14  vin           239197 non-null  object \n",
      " 15  drive         313838 non-null  object \n",
      " 16  size          139888 non-null  object \n",
      " 17  type          318741 non-null  object \n",
      " 18  paint_color   300602 non-null  object \n",
      " 19  image_url     435825 non-null  object \n",
      " 20  description   435822 non-null  object \n",
      " 21  county        0 non-null       float64\n",
      " 22  state         435849 non-null  object \n",
      " 23  lat           427614 non-null  float64\n",
      " 24  long          427614 non-null  float64\n",
      "dtypes: float64(5), int64(2), object(18)\n",
      "memory usage: 83.1+ MB\n"
     ]
    }
   ],
   "source": [
    "# Basic info\n",
    "df.info()"
   ]
  },
  {
   "cell_type": "code",
   "execution_count": 7,
   "metadata": {},
   "outputs": [
    {
     "data": {
      "text/html": [
       "<div>\n",
       "<style scoped>\n",
       "    .dataframe tbody tr th:only-of-type {\n",
       "        vertical-align: middle;\n",
       "    }\n",
       "\n",
       "    .dataframe tbody tr th {\n",
       "        vertical-align: top;\n",
       "    }\n",
       "\n",
       "    .dataframe thead th {\n",
       "        text-align: right;\n",
       "    }\n",
       "</style>\n",
       "<table border=\"1\" class=\"dataframe\">\n",
       "  <thead>\n",
       "    <tr style=\"text-align: right;\">\n",
       "      <th></th>\n",
       "      <th>id</th>\n",
       "      <th>price</th>\n",
       "      <th>year</th>\n",
       "      <th>odometer</th>\n",
       "      <th>county</th>\n",
       "      <th>lat</th>\n",
       "      <th>long</th>\n",
       "    </tr>\n",
       "  </thead>\n",
       "  <tbody>\n",
       "    <tr>\n",
       "      <th>count</th>\n",
       "      <td>435849.00</td>\n",
       "      <td>435849.00</td>\n",
       "      <td>434732.00</td>\n",
       "      <td>360701.00</td>\n",
       "      <td>0.00</td>\n",
       "      <td>427614.00</td>\n",
       "      <td>427614.00</td>\n",
       "    </tr>\n",
       "    <tr>\n",
       "      <th>mean</th>\n",
       "      <td>7115953556.01</td>\n",
       "      <td>134912.71</td>\n",
       "      <td>2009.87</td>\n",
       "      <td>98975.90</td>\n",
       "      <td>nan</td>\n",
       "      <td>38.40</td>\n",
       "      <td>-94.96</td>\n",
       "    </tr>\n",
       "    <tr>\n",
       "      <th>std</th>\n",
       "      <td>4590853.93</td>\n",
       "      <td>16908570.03</td>\n",
       "      <td>9.31</td>\n",
       "      <td>113499.02</td>\n",
       "      <td>nan</td>\n",
       "      <td>6.04</td>\n",
       "      <td>18.06</td>\n",
       "    </tr>\n",
       "    <tr>\n",
       "      <th>min</th>\n",
       "      <td>7096577274.00</td>\n",
       "      <td>0.00</td>\n",
       "      <td>1900.00</td>\n",
       "      <td>0.00</td>\n",
       "      <td>nan</td>\n",
       "      <td>-83.20</td>\n",
       "      <td>-177.01</td>\n",
       "    </tr>\n",
       "    <tr>\n",
       "      <th>25%</th>\n",
       "      <td>7112450082.00</td>\n",
       "      <td>4900.00</td>\n",
       "      <td>2007.00</td>\n",
       "      <td>47333.00</td>\n",
       "      <td>nan</td>\n",
       "      <td>34.23</td>\n",
       "      <td>-111.73</td>\n",
       "    </tr>\n",
       "    <tr>\n",
       "      <th>50%</th>\n",
       "      <td>7117092338.00</td>\n",
       "      <td>9995.00</td>\n",
       "      <td>2012.00</td>\n",
       "      <td>91188.00</td>\n",
       "      <td>nan</td>\n",
       "      <td>38.93</td>\n",
       "      <td>-89.68</td>\n",
       "    </tr>\n",
       "    <tr>\n",
       "      <th>75%</th>\n",
       "      <td>7120090344.00</td>\n",
       "      <td>17989.00</td>\n",
       "      <td>2015.00</td>\n",
       "      <td>134736.00</td>\n",
       "      <td>nan</td>\n",
       "      <td>42.48</td>\n",
       "      <td>-81.40</td>\n",
       "    </tr>\n",
       "    <tr>\n",
       "      <th>max</th>\n",
       "      <td>7121608239.00</td>\n",
       "      <td>3647256576.00</td>\n",
       "      <td>2021.00</td>\n",
       "      <td>10000000.00</td>\n",
       "      <td>nan</td>\n",
       "      <td>79.60</td>\n",
       "      <td>173.68</td>\n",
       "    </tr>\n",
       "  </tbody>\n",
       "</table>\n",
       "</div>"
      ],
      "text/plain": [
       "                 id         price      year    odometer  county       lat  \\\n",
       "count     435849.00     435849.00 434732.00   360701.00    0.00 427614.00   \n",
       "mean  7115953556.01     134912.71   2009.87    98975.90     nan     38.40   \n",
       "std      4590853.93   16908570.03      9.31   113499.02     nan      6.04   \n",
       "min   7096577274.00          0.00   1900.00        0.00     nan    -83.20   \n",
       "25%   7112450082.00       4900.00   2007.00    47333.00     nan     34.23   \n",
       "50%   7117092338.00       9995.00   2012.00    91188.00     nan     38.93   \n",
       "75%   7120090344.00      17989.00   2015.00   134736.00     nan     42.48   \n",
       "max   7121608239.00 3647256576.00   2021.00 10000000.00     nan     79.60   \n",
       "\n",
       "           long  \n",
       "count 427614.00  \n",
       "mean     -94.96  \n",
       "std       18.06  \n",
       "min     -177.01  \n",
       "25%     -111.73  \n",
       "50%      -89.68  \n",
       "75%      -81.40  \n",
       "max      173.68  "
      ]
     },
     "execution_count": 7,
     "metadata": {},
     "output_type": "execute_result"
    }
   ],
   "source": [
    "df.describe()"
   ]
  },
  {
   "cell_type": "code",
   "execution_count": 8,
   "metadata": {},
   "outputs": [
    {
     "data": {
      "text/plain": [
       "{'numeric': ['id', 'price', 'year', 'odometer', 'county', 'lat', 'long'],\n",
       " 'categorical': ['description',\n",
       "  'region',\n",
       "  'size',\n",
       "  'image_url',\n",
       "  'region_url',\n",
       "  'cylinders',\n",
       "  'state',\n",
       "  'condition',\n",
       "  'url',\n",
       "  'title_status',\n",
       "  'drive',\n",
       "  'type',\n",
       "  'model',\n",
       "  'paint_color',\n",
       "  'transmission',\n",
       "  'vin',\n",
       "  'manufacturer',\n",
       "  'fuel']}"
      ]
     },
     "execution_count": 8,
     "metadata": {},
     "output_type": "execute_result"
    }
   ],
   "source": [
    "allcolumns = df.columns.to_list()\n",
    "numericals = df._get_numeric_data().columns.to_list()\n",
    "categoricals = list(set(allcolumns) - set(numericals))\n",
    "collist =  dict(numeric = numericals,  categorical = categoricals)\n",
    "collist"
   ]
  },
  {
   "cell_type": "code",
   "execution_count": 9,
   "metadata": {},
   "outputs": [
    {
     "data": {
      "text/html": [
       "<div>\n",
       "<style scoped>\n",
       "    .dataframe tbody tr th:only-of-type {\n",
       "        vertical-align: middle;\n",
       "    }\n",
       "\n",
       "    .dataframe tbody tr th {\n",
       "        vertical-align: top;\n",
       "    }\n",
       "\n",
       "    .dataframe thead th {\n",
       "        text-align: right;\n",
       "    }\n",
       "</style>\n",
       "<table border=\"1\" class=\"dataframe\">\n",
       "  <thead>\n",
       "    <tr style=\"text-align: right;\">\n",
       "      <th></th>\n",
       "      <th>percent_missing</th>\n",
       "    </tr>\n",
       "  </thead>\n",
       "  <tbody>\n",
       "    <tr>\n",
       "      <th>county</th>\n",
       "      <td>100.00</td>\n",
       "    </tr>\n",
       "    <tr>\n",
       "      <th>size</th>\n",
       "      <td>67.90</td>\n",
       "    </tr>\n",
       "    <tr>\n",
       "      <th>vin</th>\n",
       "      <td>45.12</td>\n",
       "    </tr>\n",
       "    <tr>\n",
       "      <th>condition</th>\n",
       "      <td>42.86</td>\n",
       "    </tr>\n",
       "    <tr>\n",
       "      <th>cylinders</th>\n",
       "      <td>38.17</td>\n",
       "    </tr>\n",
       "    <tr>\n",
       "      <th>paint_color</th>\n",
       "      <td>31.03</td>\n",
       "    </tr>\n",
       "    <tr>\n",
       "      <th>drive</th>\n",
       "      <td>27.99</td>\n",
       "    </tr>\n",
       "    <tr>\n",
       "      <th>type</th>\n",
       "      <td>26.87</td>\n",
       "    </tr>\n",
       "    <tr>\n",
       "      <th>odometer</th>\n",
       "      <td>17.24</td>\n",
       "    </tr>\n",
       "    <tr>\n",
       "      <th>manufacturer</th>\n",
       "      <td>4.76</td>\n",
       "    </tr>\n",
       "    <tr>\n",
       "      <th>long</th>\n",
       "      <td>1.89</td>\n",
       "    </tr>\n",
       "    <tr>\n",
       "      <th>lat</th>\n",
       "      <td>1.89</td>\n",
       "    </tr>\n",
       "    <tr>\n",
       "      <th>model</th>\n",
       "      <td>1.42</td>\n",
       "    </tr>\n",
       "    <tr>\n",
       "      <th>fuel</th>\n",
       "      <td>0.69</td>\n",
       "    </tr>\n",
       "    <tr>\n",
       "      <th>transmission</th>\n",
       "      <td>0.49</td>\n",
       "    </tr>\n",
       "    <tr>\n",
       "      <th>title_status</th>\n",
       "      <td>0.41</td>\n",
       "    </tr>\n",
       "    <tr>\n",
       "      <th>year</th>\n",
       "      <td>0.26</td>\n",
       "    </tr>\n",
       "    <tr>\n",
       "      <th>description</th>\n",
       "      <td>0.01</td>\n",
       "    </tr>\n",
       "    <tr>\n",
       "      <th>image_url</th>\n",
       "      <td>0.01</td>\n",
       "    </tr>\n",
       "    <tr>\n",
       "      <th>url</th>\n",
       "      <td>0.00</td>\n",
       "    </tr>\n",
       "    <tr>\n",
       "      <th>price</th>\n",
       "      <td>0.00</td>\n",
       "    </tr>\n",
       "    <tr>\n",
       "      <th>region_url</th>\n",
       "      <td>0.00</td>\n",
       "    </tr>\n",
       "    <tr>\n",
       "      <th>state</th>\n",
       "      <td>0.00</td>\n",
       "    </tr>\n",
       "    <tr>\n",
       "      <th>region</th>\n",
       "      <td>0.00</td>\n",
       "    </tr>\n",
       "    <tr>\n",
       "      <th>id</th>\n",
       "      <td>0.00</td>\n",
       "    </tr>\n",
       "  </tbody>\n",
       "</table>\n",
       "</div>"
      ],
      "text/plain": [
       "              percent_missing\n",
       "county                 100.00\n",
       "size                    67.90\n",
       "vin                     45.12\n",
       "condition               42.86\n",
       "cylinders               38.17\n",
       "paint_color             31.03\n",
       "drive                   27.99\n",
       "type                    26.87\n",
       "odometer                17.24\n",
       "manufacturer             4.76\n",
       "long                     1.89\n",
       "lat                      1.89\n",
       "model                    1.42\n",
       "fuel                     0.69\n",
       "transmission             0.49\n",
       "title_status             0.41\n",
       "year                     0.26\n",
       "description              0.01\n",
       "image_url                0.01\n",
       "url                      0.00\n",
       "price                    0.00\n",
       "region_url               0.00\n",
       "state                    0.00\n",
       "region                   0.00\n",
       "id                       0.00"
      ]
     },
     "execution_count": 9,
     "metadata": {},
     "output_type": "execute_result"
    }
   ],
   "source": [
    "# Check null values\n",
    "null_counts_df =  pd.DataFrame({'percent_missing':df.isnull().sum() * 100 / len(df)})\n",
    "null_counts_df.sort_values(by = 'percent_missing', inplace = True, ascending = False)\n",
    "null_counts_df"
   ]
  },
  {
   "cell_type": "markdown",
   "metadata": {},
   "source": [
    "#### Step 1 - Observations:\n",
    "\n",
    "1. 25 columns in the data set. 7 numerical and 18 categorical attributes.\n",
    "2. The following attributes may be discarded for reasons mentioned:\n",
    "\n",
    "    \"County\" - is 100% missing data,there is no data value.\n",
    "    \n",
    "    \"id\" - is just a record identifier for the data set and may not have any relevance to car's worth.\n",
    "    \n",
    "    \"url\",\"region_url\",\"image_url\" - these are for web browsing, may not have any relevance to car's worth.\n",
    "    \n",
    "    \"lat\", \"long\" - as region is 100% populated, so geographical data can be obtained from region.    \n",
    "    \n",
    "    \n",
    "3. \"Description\" is free text and may be used with NLP for populating any missing features if required. But for initial analysis, we can discard it.  However, we can create a new feature called \"descriptionwordcount\" which may be an interesting feature for price estimation - often nicely written descriptions sell faster.\n",
    "\n",
    "4. \"Price\" shows high SD of 16908570.03 with max value = 3647256576.00.  Outliers observed.\n",
    "\n",
    "5. \"Year\" has range 1900 to 2021 with Q1 = 2007, mean = 2009 and SD = 9. Outliers observed.\n",
    "\n",
    "6. \"Odometer\" min is 0 which has scope of data imputation. It has a max 10000000.00 and SD= 113499.02. Outliers observed.\n"
   ]
  },
  {
   "cell_type": "code",
   "execution_count": 10,
   "metadata": {},
   "outputs": [],
   "source": [
    "# create column descriptionwordcount\n",
    "df['descriptionwordcount'] = df['description'].astype(str).apply(lambda x: len(x.split()))"
   ]
  },
  {
   "cell_type": "code",
   "execution_count": 11,
   "metadata": {},
   "outputs": [
    {
     "data": {
      "text/plain": [
       "count   435849.00\n",
       "mean       371.30\n",
       "std        440.89\n",
       "min          1.00\n",
       "25%         67.00\n",
       "50%        227.00\n",
       "75%        568.00\n",
       "max      11037.00\n",
       "Name: descriptionwordcount, dtype: float64"
      ]
     },
     "execution_count": 11,
     "metadata": {},
     "output_type": "execute_result"
    }
   ],
   "source": [
    "df['descriptionwordcount'].describe()"
   ]
  },
  {
   "cell_type": "markdown",
   "metadata": {},
   "source": [
    "### Step 2- Discard attributes that may not impact prediction of prices"
   ]
  },
  {
   "cell_type": "code",
   "execution_count": 12,
   "metadata": {},
   "outputs": [],
   "source": [
    "# Drop columns which may not contribute to prediction\n",
    "df.drop(['county','id','image_url','region_url','url','description'], axis = 1, inplace = True)"
   ]
  },
  {
   "cell_type": "code",
   "execution_count": 13,
   "metadata": {},
   "outputs": [
    {
     "data": {
      "text/plain": [
       "{'numeric': ['price',\n",
       "  'year',\n",
       "  'odometer',\n",
       "  'lat',\n",
       "  'long',\n",
       "  'descriptionwordcount'],\n",
       " 'categorical': ['region',\n",
       "  'manufacturer',\n",
       "  'size',\n",
       "  'condition',\n",
       "  'cylinders',\n",
       "  'state',\n",
       "  'title_status',\n",
       "  'drive',\n",
       "  'model',\n",
       "  'paint_color',\n",
       "  'transmission',\n",
       "  'vin',\n",
       "  'type',\n",
       "  'fuel']}"
      ]
     },
     "execution_count": 13,
     "metadata": {},
     "output_type": "execute_result"
    }
   ],
   "source": [
    "findcolumntypes(df)"
   ]
  },
  {
   "cell_type": "markdown",
   "metadata": {},
   "source": [
    "### Step3: Explore the range of population data set and determine if a working sample can be extracted by dropping some records\n",
    "\n",
    "Data is distributed by the year of car manufacture. Checking its distribution on the variable 'Year'"
   ]
  },
  {
   "cell_type": "code",
   "execution_count": 14,
   "metadata": {},
   "outputs": [
    {
     "data": {
      "text/plain": [
       "count   434732.00\n",
       "mean      2009.87\n",
       "std          9.31\n",
       "min       1900.00\n",
       "25%       2007.00\n",
       "50%       2012.00\n",
       "75%       2015.00\n",
       "max       2021.00\n",
       "Name: year, dtype: float64"
      ]
     },
     "execution_count": 14,
     "metadata": {},
     "output_type": "execute_result"
    }
   ],
   "source": [
    "# Check distributions of year\n",
    "df['year'].describe()"
   ]
  },
  {
   "cell_type": "code",
   "execution_count": 22,
   "metadata": {},
   "outputs": [
    {
     "data": {
      "image/png": "[encoded data removed]",
      "text/plain": [
       "<Figure size 576x396 with 1 Axes>"
      ]
     },
     "metadata": {},
     "output_type": "display_data"
    }
   ],
   "source": [
    "# Checking distribution of year\n",
    "ax = sns.stripplot( y=df[\"year\"],palette=\"Set3\",orient = 'h' )\n",
    "ax.grid(True)"
   ]
  },
  {
   "cell_type": "code",
   "execution_count": 20,
   "metadata": {},
   "outputs": [
    {
     "data": {
      "image/png": "[encoded data removed]",
      "text/plain": [
       "<Figure size 576x396 with 1 Axes>"
      ]
     },
     "metadata": {},
     "output_type": "display_data"
    }
   ],
   "source": [
    "ax = sns.boxplot( y=df[\"year\"],palette=\"Set3\",orient = 'h' )\n",
    "ax.grid(True)"
   ]
  },
  {
   "cell_type": "code",
   "execution_count": 29,
   "metadata": {},
   "outputs": [
    {
     "data": {
      "text/plain": [
       "<matplotlib.axes._subplots.AxesSubplot at 0x12076f3160>"
      ]
     },
     "execution_count": 29,
     "metadata": {},
     "output_type": "execute_result"
    },
    {
     "data": {
      "image/png": "[encoded data removed]",
      "text/plain": [
       "<Figure size 576x396 with 1 Axes>"
      ]
     },
     "metadata": {},
     "output_type": "display_data"
    }
   ],
   "source": [
    "df[df['year'] < 1990] ['year'].plot(kind = 'hist')"
   ]
  },
  {
   "cell_type": "code",
   "execution_count": 31,
   "metadata": {},
   "outputs": [
    {
     "data": {
      "text/plain": [
       "1987.00   4.77\n",
       "1989.00   4.73\n",
       "1988.00   4.05\n",
       "1986.00   3.75\n",
       "1966.00   3.68\n",
       "          ... \n",
       "1945.00   0.01\n",
       "1920.00   0.01\n",
       "1943.00   0.01\n",
       "1911.00   0.01\n",
       "1913.00   0.01\n",
       "Name: year, Length: 77, dtype: float64"
      ]
     },
     "execution_count": 31,
     "metadata": {},
     "output_type": "execute_result"
    }
   ],
   "source": [
    "df[df['year'] < 1990] ['year'].value_counts(normalize=True) * 100"
   ]
  },
  {
   "cell_type": "markdown",
   "metadata": {},
   "source": [
    "#### Step3 : Observations\n",
    "1. Year has outliers less than 1990 as seen in box plot ( less than Mean - 3*IQR ) \n",
    "2. We see years less than 1990 have under 5% of the data. \n",
    "3. We can merge all the data "
   ]
  },
  {
   "cell_type": "code",
   "execution_count": 32,
   "metadata": {},
   "outputs": [
    {
     "data": {
      "text/plain": [
       "0               NaN\n",
       "1               NaN\n",
       "2               NaN\n",
       "3          mid-size\n",
       "4               NaN\n",
       "            ...    \n",
       "435844    full-size\n",
       "435845          NaN\n",
       "435846      compact\n",
       "435847          NaN\n",
       "435848          NaN\n",
       "Name: size, Length: 435849, dtype: object"
      ]
     },
     "execution_count": 32,
     "metadata": {},
     "output_type": "execute_result"
    }
   ],
   "source": [
    "df['size']"
   ]
  },
  {
   "cell_type": "markdown",
   "metadata": {},
   "source": [
    "### Sample range analysis"
   ]
  },
  {
   "cell_type": "code",
   "execution_count": null,
   "metadata": {},
   "outputs": [],
   "source": [
    "# Check distributions of year\n",
    "df['year'].describe()"
   ]
  },
  {
   "cell_type": "code",
   "execution_count": null,
   "metadata": {},
   "outputs": [],
   "source": []
  },
  {
   "cell_type": "markdown",
   "metadata": {},
   "source": [
    "#### Outliers seen for year with values before 1990. Checking for values before 1990"
   ]
  },
  {
   "cell_type": "code",
   "execution_count": null,
   "metadata": {},
   "outputs": [],
   "source": [
    "df[df['year'] < 1990] ['year'].plot(kind = 'hist')"
   ]
  },
  {
   "cell_type": "code",
   "execution_count": null,
   "metadata": {},
   "outputs": [],
   "source": [
    "df_oldyears = df[df.year < 1950]\n",
    "df.drop(df_oldyears.index, inplace = True)"
   ]
  },
  {
   "cell_type": "code",
   "execution_count": null,
   "metadata": {},
   "outputs": [],
   "source": [
    "# Checking distribution of year after cleanup of old years\n",
    "df.boxplot(column = ['year'], vert=False)"
   ]
  },
  {
   "cell_type": "markdown",
   "metadata": {},
   "source": [
    "#### Target variable analysis : PRICE"
   ]
  },
  {
   "cell_type": "code",
   "execution_count": null,
   "metadata": {},
   "outputs": [],
   "source": [
    "# Analysis of the target variable price \n",
    "# Outliers present with high values \n",
    "df['price'].describe()"
   ]
  },
  {
   "cell_type": "code",
   "execution_count": null,
   "metadata": {},
   "outputs": [],
   "source": [
    "# Checking distribution of year after cleanup of old years\n",
    "df.boxplot(column = ['price'])"
   ]
  },
  {
   "cell_type": "markdown",
   "metadata": {},
   "source": [
    "#### price values need to be scaled to provide better visualization\n",
    "#### will use minmax scaler of sklearn"
   ]
  },
  {
   "cell_type": "code",
   "execution_count": null,
   "metadata": {},
   "outputs": [],
   "source": [
    "scaler = MinMaxScaler()\n",
    "df['price_scaled'] = scaler.fit_transform(df[['price']].to_numpy())"
   ]
  },
  {
   "cell_type": "code",
   "execution_count": null,
   "metadata": {},
   "outputs": [],
   "source": [
    "df.head(2)"
   ]
  },
  {
   "cell_type": "code",
   "execution_count": null,
   "metadata": {},
   "outputs": [],
   "source": [
    "# Checking distribution of year after cleanup of old years\n",
    "df.boxplot(column = ['price_scaled'])"
   ]
  },
  {
   "cell_type": "code",
   "execution_count": null,
   "metadata": {},
   "outputs": [],
   "source": []
  },
  {
   "cell_type": "code",
   "execution_count": null,
   "metadata": {},
   "outputs": [],
   "source": []
  }
 ],
 "metadata": {
  "kernelspec": {
   "display_name": "Python 3",
   "language": "python",
   "name": "python3"
  },
  "language_info": {
   "codemirror_mode": {
    "name": "ipython",
    "version": 3
   },
   "file_extension": ".py",
   "mimetype": "text/x-python",
   "name": "python",
   "nbconvert_exporter": "python",
   "pygments_lexer": "ipython3",
   "version": "3.6.8"
  }
 },
 "nbformat": 4,
 "nbformat_minor": 2
}
