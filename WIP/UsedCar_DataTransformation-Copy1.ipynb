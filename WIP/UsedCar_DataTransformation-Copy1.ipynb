{
 "cells": [
  {
   "cell_type": "markdown",
   "metadata": {},
   "source": [
    "## Steps to convert raw web scraped data into ML model ready data\n",
    "\n",
    "1. Get intial features as obtained from RAW file\n",
    "2. Append to other datasets\n",
    "3. Impute missing data\n",
    "4. Convert to numericals\n",
    "3. Use encoder to encode values\n",
    "4. Use pandas get dummies to do onehot encoding for columns \n",
    "5. Convert to Vectors X and y"
   ]
  },
  {
   "cell_type": "code",
   "execution_count": 1,
   "metadata": {},
   "outputs": [],
   "source": [
    "from sklearn.preprocessing import OneHotEncoder as SklearnOneHotEncoder\n",
    "from sklearn.compose import ColumnTransformer, make_column_transformer\n",
    "from sklearn.pipeline import make_pipeline\n",
    "from sklearn.pipeline import Pipeline"
   ]
  },
  {
   "cell_type": "code",
   "execution_count": 2,
   "metadata": {},
   "outputs": [],
   "source": [
    "import pandas as pd\n",
    "import json\n",
    "import requests\n",
    "import numpy as np\n",
    "from fuzzywuzzy import fuzz\n",
    "requests.packages.urllib3.disable_warnings() \n",
    "pd.set_option('display.max_colwidth',0)\n",
    "pd.set_option('display.float_format',lambda x: '%.2f' %x)\n",
    "pd.set_option('display.max_columns',0)\n",
    "from datetime import datetime\n",
    "import pickle"
   ]
  },
  {
   "cell_type": "code",
   "execution_count": 3,
   "metadata": {},
   "outputs": [],
   "source": [
    "class CarDataStandardizer():\n",
    "    \n",
    "    def __init__(self):        \n",
    "        print(\"Initialized standardizer\")  \n",
    "        \n",
    "    def fit(self):\n",
    "        return self\n",
    "    \n",
    "    def transform(self, df):\n",
    "        # merge the data\n",
    "        df_input = df.copy()\n",
    "        \n",
    "        # impute columns which are optional\n",
    "        df_input['owner'].fillna(1,inplace = True)   \n",
    "        df_input['accidenthist'].fillna('N',inplace = True)       \n",
    "        df_input['usage'].fillna('PERSONAL',inplace = True)          \n",
    "        \n",
    "        df_input['age'] = datetime.now().year - df_input['year'].astype('int')\n",
    "        df_input['odo'] = df_input['odometer'].astype('int') / 1000\n",
    "        df_input = df_input.drop(columns = ['odometer'])\n",
    "        \n",
    "        df_input['owner'] = pd.cut(x=df_input['owner'], bins=[-1,0,1,20], labels=[0,1,2])\n",
    "\n",
    "        \n",
    "        for col in ['make','model','trim','state','colorexterior','colorinterior','accidenthist','usage']:\n",
    "            df_input[col] = df_input[col].astype(str).apply(lambda x:x.upper().strip())           \n",
    "\n",
    "\n",
    "        return df_input"
   ]
  },
  {
   "cell_type": "code",
   "execution_count": 4,
   "metadata": {},
   "outputs": [],
   "source": [
    "class CarDataAugmentor():\n",
    "    \n",
    "    def __init__(self):\n",
    "        \n",
    "        # prepare augment data from files\n",
    "        print(\"Initialized CarDataAugmentor\") \n",
    "        \n",
    "        self.df_category = pd.read_csv('car_category.csv', index_col = False)\n",
    "\n",
    "        self.df_reliability = pd.read_csv('car_reliability_rankings.csv', index_col = False)\n",
    "        self.df_reliability = self.df_reliability[['Make','ReliabilityRank']]\n",
    "\n",
    "        self.df_cost = pd.read_csv('statewise_economic_indicators.csv',index_col = False)\n",
    "        self.df_cost = self.df_cost[['State','CostOfLivingRank']]\n",
    "\n",
    "        self.df_sales = pd.read_csv('car_sales.csv',index_col = False)\n",
    "        self.df_sales = self.df_sales.drop(columns = ['TotalSales'])\n",
    "\n",
    "        self.df_turn = pd.read_csv(\"used_car_time_to_turn.csv\")\n",
    "        self.df_turn['AvgDaysToTurn'] = self.df_turn.mean(axis=1)\n",
    "        self.df_turn['Make'] = self.df_turn['Make'].str.upper()\n",
    "        self.df_turn = self.df_turn[['Make','AvgDaysToTurn']]\n",
    "\n",
    "\n",
    "        self.df_ratings = pd.read_csv('car_ratings.csv', index_col = False)\n",
    "        self.df_ratings.drop_duplicates(subset = ['MakeModel'], inplace = True)\n",
    "        self.df_ratings['AvgMPG'] = (self.df_ratings['MpgCity']  + self.df_ratings['MpgHwy']) / 2\n",
    "        self.df_ratings.loc[self.df_ratings['CarClass'].str.contains(r'LUXURY|SPORTS|HYBRID'),'LuxurySportsOrHybrid'] = 'Y'\n",
    "        self.df_ratings['LuxurySportsOrHybrid']  = self.df_ratings['LuxurySportsOrHybrid'].fillna('N')\n",
    "        self.df_ratings = self.df_ratings[['MakeModel','ReviewScore','AvgMPG','LuxurySportsOrHybrid']]\n",
    " \n",
    "    def fit(self):\n",
    "        return self\n",
    "\n",
    "    def transform(self, df):\n",
    "        # merge the data\n",
    "        df_input = df.copy()\n",
    "        \n",
    "        df_input = df_input.merge(self.df_category,how = 'left', \n",
    "                                  left_on = ['year','make','model'], \n",
    "                                  right_on = ['Year','Make','Model'])\n",
    "        df_input = df_input.drop(columns = ['Year','Make','Model']).rename({'Category' : 'bodytype'},axis = 1)\n",
    "\n",
    "        df_input = df_input.merge(self.df_reliability,how = 'left',left_on='make', right_on='Make')\n",
    "        df_input = df_input.drop(columns = ['Make'])\n",
    "\n",
    "        df_input = df_input.merge(self.df_cost,how = 'left',left_on=['state'], right_on=['State'])\n",
    "        df_input = df_input.drop(columns = ['State'])\n",
    "\n",
    "        df_input = df_input.merge(self.df_sales,how = 'left',left_on=['make'], right_on=['Make'])\n",
    "        df_input = df_input.drop(columns = ['Make'])\n",
    "\n",
    "        df_input = df_input.merge(self.df_turn,how = 'left',left_on=['make'], right_on=['Make'])\n",
    "        df_input = df_input.drop(columns = ['Make'])\n",
    "\n",
    "        # Function to do fuzzy matching of make and model combination to get ratings\n",
    "        def getclass(makemodel):\n",
    "\n",
    "            try:\n",
    "                matches = self.df_ratings['MakeModel'].apply(lambda x:fuzz.ratio(x,makemodel))\n",
    "                if matches.max() > 80:\n",
    "                    return matches.idxmax()\n",
    "                else:\n",
    "                    return -1\n",
    "            except:\n",
    "                return -1\n",
    "\n",
    "\n",
    "        df_input['makemodel'] = df_input['make'] + ' ' + df_input['model'] \n",
    "        df_input['matchindex'] = df_input['makemodel'].apply(getclass)\n",
    "        df_input = df_input.merge(self.df_ratings, how = 'left', left_on = 'matchindex', right_index = True)\n",
    "        df_input = df_input.drop(columns = ['makemodel','matchindex','MakeModel'])\n",
    "\n",
    "        def getdrivetrain(trim):\n",
    "\n",
    "            try:\n",
    "                drivetrain = [d for d in ['AWD','RWD','FWD','4WD','2WD'] if d in trim]\n",
    "                drivetrain = drivetrain[0] if len(drivetrain) > 0 else 'FWD'\n",
    "                drivetrain = 'FWD' if drivetrain in ['FWD','2WD'] else 'AWD'\n",
    "                return drivetrain\n",
    "            except:\n",
    "                return 'FWD'\n",
    "\n",
    "        df_input['drivetrain'] = df_input['trim'].apply(getdrivetrain)\n",
    "        \n",
    "        df_input = df_input.drop(columns = ['year', 'make', 'model', 'trim', 'state'])\n",
    "\n",
    "        return df_input\n"
   ]
  },
  {
   "cell_type": "code",
   "execution_count": 19,
   "metadata": {},
   "outputs": [],
   "source": [
    "\n",
    "\n",
    "class OneHotTransformer(SklearnOneHotEncoder):\n",
    "    \n",
    "    def __init__(self):\n",
    "        super().__init__()\n",
    "        print(\"Initialized OneHotTransformer\") \n",
    "        self.fit_flag = False\n",
    "\n",
    "    def fit(self, X):\n",
    "        out = super().fit(X)\n",
    "        self.fit_flag = True\n",
    "        return out\n",
    "\n",
    "    def transform(self, X):\n",
    "        sparse_matrix = super().transform(X)\n",
    "        new_columns = self.get_new_columns(X=X)\n",
    "        print(new_columns)\n",
    "        d_out = pd.DataFrame(sparse_matrix.toarray(), columns=new_columns, index=X.index)\n",
    "        return d_out\n",
    "\n",
    "    def fit_transform(self, X):\n",
    "        self.fit(X)\n",
    "        return self.transform(X)\n",
    "\n",
    "    def get_new_columns(self, X):\n",
    "        new_columns = []\n",
    "        for i, column in enumerate(X.columns):\n",
    "            j = 0\n",
    "            while j < len(self.categories_[i]):\n",
    "                new_columns.append(f'{column}_{self.categories_[i][j]}')\n",
    "                j += 1\n",
    "        return new_columns"
   ]
  },
  {
   "cell_type": "code",
   "execution_count": 20,
   "metadata": {},
   "outputs": [],
   "source": [
    "in_data = [{\n",
    "            \"year\" : 2014,\n",
    "            \"make\" : \"toyota\",\n",
    "            \"model\" : \"corolla\",\n",
    "            \"trim\" : \"le plus\",\n",
    "            \"odometer\" : 20700,\n",
    "            \"state\" :  \"AZ\",\n",
    "            \"colorexterior\" : \"blue\",\n",
    "            \"colorinterior\" : \"black\",\n",
    "            \"accidenthist\" : \"n\",\n",
    "            \"owner\" : 5,\n",
    "            \"usage\" : \"personal\"\n",
    "            }]\n",
    "\n",
    "\n",
    "df = pd.DataFrame.from_dict(in_data)\n",
    "\n",
    "all_features = df.columns\n",
    "\n",
    "categorical_features = ['colorexterior', 'colorinterior', 'accidenthist', 'owner', 'usage',\n",
    "                       'bodytype','LuxurySportsOrHybrid', 'drivetrain']"
   ]
  },
  {
   "cell_type": "code",
   "execution_count": 21,
   "metadata": {
    "scrolled": true
   },
   "outputs": [
    {
     "data": {
      "text/html": [
       "<div>\n",
       "<style scoped>\n",
       "    .dataframe tbody tr th:only-of-type {\n",
       "        vertical-align: middle;\n",
       "    }\n",
       "\n",
       "    .dataframe tbody tr th {\n",
       "        vertical-align: top;\n",
       "    }\n",
       "\n",
       "    .dataframe thead th {\n",
       "        text-align: right;\n",
       "    }\n",
       "</style>\n",
       "<table border=\"1\" class=\"dataframe\">\n",
       "  <thead>\n",
       "    <tr style=\"text-align: right;\">\n",
       "      <th></th>\n",
       "      <th>year</th>\n",
       "      <th>make</th>\n",
       "      <th>model</th>\n",
       "      <th>trim</th>\n",
       "      <th>odometer</th>\n",
       "      <th>state</th>\n",
       "      <th>colorexterior</th>\n",
       "      <th>colorinterior</th>\n",
       "      <th>accidenthist</th>\n",
       "      <th>owner</th>\n",
       "      <th>usage</th>\n",
       "    </tr>\n",
       "  </thead>\n",
       "  <tbody>\n",
       "    <tr>\n",
       "      <th>0</th>\n",
       "      <td>2014</td>\n",
       "      <td>toyota</td>\n",
       "      <td>corolla</td>\n",
       "      <td>le plus</td>\n",
       "      <td>20700</td>\n",
       "      <td>AZ</td>\n",
       "      <td>blue</td>\n",
       "      <td>black</td>\n",
       "      <td>n</td>\n",
       "      <td>5</td>\n",
       "      <td>personal</td>\n",
       "    </tr>\n",
       "  </tbody>\n",
       "</table>\n",
       "</div>"
      ],
      "text/plain": [
       "   year    make    model     trim  odometer state colorexterior colorinterior accidenthist  owner     usage\n",
       "0  2014  toyota  corolla  le plus  20700     AZ    blue          black         n            5      personal"
      ]
     },
     "execution_count": 21,
     "metadata": {},
     "output_type": "execute_result"
    }
   ],
   "source": [
    "df"
   ]
  },
  {
   "cell_type": "code",
   "execution_count": 22,
   "metadata": {},
   "outputs": [
    {
     "name": "stdout",
     "output_type": "stream",
     "text": [
      "Initialized standardizer\n",
      "Initialized CarDataAugmentor\n",
      "Initialized OneHotTransformer\n",
      "['colorexterior_BLUE', 'colorinterior_BLACK', 'accidenthist_N', 'owner_2', 'usage_PERSONAL', 'age_6', 'odo_20.7', 'bodytype_SEDAN', 'ReliabilityRank_5', 'CostOfLivingRank_29', 'PercentSales_12.1872269830779', 'AvgDaysToTurn_43.23076923076923', 'ReviewScore_7.9', 'AvgMPG_32.0', 'LuxurySportsOrHybrid_N', 'drivetrain_FWD']\n"
     ]
    },
    {
     "data": {
      "text/html": [
       "<div>\n",
       "<style scoped>\n",
       "    .dataframe tbody tr th:only-of-type {\n",
       "        vertical-align: middle;\n",
       "    }\n",
       "\n",
       "    .dataframe tbody tr th {\n",
       "        vertical-align: top;\n",
       "    }\n",
       "\n",
       "    .dataframe thead th {\n",
       "        text-align: right;\n",
       "    }\n",
       "</style>\n",
       "<table border=\"1\" class=\"dataframe\">\n",
       "  <thead>\n",
       "    <tr style=\"text-align: right;\">\n",
       "      <th></th>\n",
       "      <th>colorexterior_BLUE</th>\n",
       "      <th>colorinterior_BLACK</th>\n",
       "      <th>accidenthist_N</th>\n",
       "      <th>owner_2</th>\n",
       "      <th>usage_PERSONAL</th>\n",
       "      <th>age_6</th>\n",
       "      <th>odo_20.7</th>\n",
       "      <th>bodytype_SEDAN</th>\n",
       "      <th>ReliabilityRank_5</th>\n",
       "      <th>CostOfLivingRank_29</th>\n",
       "      <th>PercentSales_12.1872269830779</th>\n",
       "      <th>AvgDaysToTurn_43.23076923076923</th>\n",
       "      <th>ReviewScore_7.9</th>\n",
       "      <th>AvgMPG_32.0</th>\n",
       "      <th>LuxurySportsOrHybrid_N</th>\n",
       "      <th>drivetrain_FWD</th>\n",
       "    </tr>\n",
       "  </thead>\n",
       "  <tbody>\n",
       "    <tr>\n",
       "      <th>0</th>\n",
       "      <td>1.00</td>\n",
       "      <td>1.00</td>\n",
       "      <td>1.00</td>\n",
       "      <td>1.00</td>\n",
       "      <td>1.00</td>\n",
       "      <td>1.00</td>\n",
       "      <td>1.00</td>\n",
       "      <td>1.00</td>\n",
       "      <td>1.00</td>\n",
       "      <td>1.00</td>\n",
       "      <td>1.00</td>\n",
       "      <td>1.00</td>\n",
       "      <td>1.00</td>\n",
       "      <td>1.00</td>\n",
       "      <td>1.00</td>\n",
       "      <td>1.00</td>\n",
       "    </tr>\n",
       "  </tbody>\n",
       "</table>\n",
       "</div>"
      ],
      "text/plain": [
       "   colorexterior_BLUE  colorinterior_BLACK  accidenthist_N  owner_2  usage_PERSONAL  ...  AvgDaysToTurn_43.23076923076923  ReviewScore_7.9  AvgMPG_32.0  LuxurySportsOrHybrid_N  drivetrain_FWD\n",
       "0 1.00                1.00                 1.00            1.00     1.00             ... 1.00                             1.00             1.00         1.00                    1.00           \n",
       "\n",
       "[1 rows x 16 columns]"
      ]
     },
     "execution_count": 22,
     "metadata": {},
     "output_type": "execute_result"
    }
   ],
   "source": [
    "a = CarDataStandardizer()\n",
    "b = CarDataAugmentor()\n",
    "c = OneHotTransformer()\n",
    "\n",
    "df1 = a.transform(df)\n",
    "df2 = b.transform(df1)\n",
    "df3 = c.fit_transform(df2)\n",
    "df3"
   ]
  },
  {
   "cell_type": "code",
   "execution_count": null,
   "metadata": {},
   "outputs": [],
   "source": [
    "c.columns"
   ]
  },
  {
   "cell_type": "code",
   "execution_count": null,
   "metadata": {},
   "outputs": [],
   "source": []
  },
  {
   "cell_type": "code",
   "execution_count": null,
   "metadata": {},
   "outputs": [],
   "source": [
    "colT = ColumnTransformer(\n",
    "    [(\"oh\", \n",
    "     SklearnOneHotEncoder(categories=[['WHITE', 'BLACK', 'SILVER', 'GRAY', 'BLUE', 'RED','OTHER'],\n",
    "                                 ['BLACK', 'GRAY', 'BEIGE','OTHER'],\n",
    "                                 ['Y', 'N'],\n",
    "                                 ['0', '1','2'],\n",
    "                                 ['PERSONAL', 'FLEET'],\n",
    "                                 ['Y', 'N','U'],\n",
    "                                 ['AWD', 'FWD']]\n",
    "                                  ), \n",
    "    ['colorexterior', 'colorinterior', 'accidenthist', 'owner', 'usage','LuxurySportsOrHybrid', 'drivetrain']\n",
    "    )]\n",
    "    )"
   ]
  },
  {
   "cell_type": "code",
   "execution_count": null,
   "metadata": {},
   "outputs": [],
   "source": [
    "colT.fit_transform(c)"
   ]
  },
  {
   "cell_type": "code",
   "execution_count": null,
   "metadata": {},
   "outputs": [],
   "source": []
  },
  {
   "cell_type": "code",
   "execution_count": null,
   "metadata": {},
   "outputs": [],
   "source": []
  },
  {
   "cell_type": "code",
   "execution_count": null,
   "metadata": {},
   "outputs": [],
   "source": []
  },
  {
   "cell_type": "code",
   "execution_count": null,
   "metadata": {},
   "outputs": [],
   "source": []
  },
  {
   "cell_type": "code",
   "execution_count": null,
   "metadata": {},
   "outputs": [],
   "source": []
  },
  {
   "cell_type": "code",
   "execution_count": null,
   "metadata": {},
   "outputs": [],
   "source": []
  },
  {
   "cell_type": "code",
   "execution_count": null,
   "metadata": {},
   "outputs": [],
   "source": []
  },
  {
   "cell_type": "code",
   "execution_count": null,
   "metadata": {},
   "outputs": [],
   "source": [
    "colT = ColumnTransformer(\n",
    "    [(\"dummy\", \n",
    "     SklearnOneHotEncoder(categories=[['WHITE', 'BLACK', 'SILVER', 'GRAY', 'BLUE', 'RED','OTHER'],\n",
    "                                 ['BLACK', 'GRAY', 'BEIGE','OTHER'],\n",
    "                                 ['Y', 'N'],\n",
    "                                 ['0', '1','2'],\n",
    "                                 ['PERSONAL', 'FLEET'],\n",
    "                                 ['Y', 'N','U'],\n",
    "                                 ['AWD', 'FWD']]\n",
    "                                  ), \n",
    "    ['colorexterior', 'colorinterior', 'accidenthist', 'owner', 'usage','LuxurySportsOrHybrid', 'drivetrain']\n",
    "    )]\n",
    "    )"
   ]
  },
  {
   "cell_type": "code",
   "execution_count": null,
   "metadata": {},
   "outputs": [],
   "source": [
    "colT.fit_transform(c)"
   ]
  },
  {
   "cell_type": "code",
   "execution_count": null,
   "metadata": {},
   "outputs": [],
   "source": [
    "colT.get_feature_names() "
   ]
  },
  {
   "cell_type": "code",
   "execution_count": null,
   "metadata": {},
   "outputs": [],
   "source": [
    "transform_pipeline = Pipeline(steps=[('standardize', CarDataStandardizer()), \n",
    "                                 ('augment',CarDataAugmentor())\n",
    "                                 ])\n",
    "df2 = transform_pipeline.transform(df)\n",
    "df2"
   ]
  },
  {
   "cell_type": "code",
   "execution_count": null,
   "metadata": {},
   "outputs": [],
   "source": [
    "'colorexterior_BLACK', 'colorexterior_BLUE', 'colorexterior_GRAY',\n",
    "                           'colorexterior_OTHER', 'colorexterior_RED', 'colorexterior_SILVER',\n",
    "                           'colorexterior_WHITE', 'colorinterior_BEIGE', 'colorinterior_BLACK',\n",
    "                           'colorinterior_GRAY', 'colorinterior_OTHER', 'bodytype_CONVERTIBLE',\n",
    "                           'bodytype_COUPE', 'bodytype_HATCHBACK', 'bodytype_PICKUP',\n",
    "                           'bodytype_SEDAN', 'bodytype_SUV', 'bodytype_TRUCK',\n",
    "                           'bodytype_VAN/MINIVAN', 'bodytype_WAGON', 'accidenthist_N',\n",
    "                           'accidenthist_Y', 'owner_0', 'owner_1', 'owner_2', 'usage_FLEET',\n",
    "                           'usage_PERSONAL', 'LuxurySportsOrHybrid_N', 'LuxurySportsOrHybrid_U',\n",
    "                           'LuxurySportsOrHybrid_Y', 'drivetrain_AWD', 'drivetrain_FWD'"
   ]
  },
  {
   "cell_type": "code",
   "execution_count": null,
   "metadata": {},
   "outputs": [],
   "source": [
    "oh = ColumnTransformer([\n",
    "    (SklearnOneHotEncoder(categories=[['WHITE', 'BLACK', 'SILVER', 'GRAY', 'BLUE', 'RED','OTHER'],\n",
    "                                      ['BLACK', 'GRAY', 'BEIGE','OTHER'],\n",
    "                                      ['Y', 'N'],\n",
    "                                      ['0', '1','2'],\n",
    "                                      ['PERSONAL', 'FLEET'],\n",
    "                                      ['Y', 'N','U'],\n",
    "                                      ['AWD', 'FWD']]), \n",
    "                                        [0,1,2,3,4,10])\n",
    "    )"
   ]
  },
  {
   "cell_type": "code",
   "execution_count": null,
   "metadata": {},
   "outputs": [],
   "source": [
    "preprocess = make_column_transformer(\n",
    "                                    (CarDataStandardizer(),all_features),\n",
    "                                    (CarDataAugmentor(),all_features),\n",
    "                                    (OneHotTransformer(),categorical_features),\n",
    "                                    remainder='passthrough'\n",
    "                                    )"
   ]
  },
  {
   "cell_type": "code",
   "execution_count": null,
   "metadata": {},
   "outputs": [],
   "source": [
    "preprocess.fit_transform(df)"
   ]
  },
  {
   "cell_type": "code",
   "execution_count": null,
   "metadata": {},
   "outputs": [],
   "source": []
  },
  {
   "cell_type": "code",
   "execution_count": null,
   "metadata": {},
   "outputs": [],
   "source": [
    "from sklearn.pipeline import Pipeline\n",
    "model_pipeline = Pipeline(steps=[('standardize', CarDataStandardizer()), \n",
    "                                 ('augment',CarDataAugmentor())\n",
    "                                 ])"
   ]
  },
  {
   "cell_type": "code",
   "execution_count": null,
   "metadata": {},
   "outputs": [],
   "source": [
    "in_data = [{\n",
    "            \"year\" : 2014,\n",
    "            \"make\" : \"toyota\",\n",
    "            \"model\" : \"corolla\",\n",
    "            \"trim\" : \"le plus\",\n",
    "            \"odometer\" : 20700,\n",
    "            \"state\" :  \"AZ\",\n",
    "            \"colorexterior\" : \"blue\",\n",
    "            \"colorinterior\" : \"black\",\n",
    "            \"accidenthist\" : \"n\",\n",
    "            \"owner\" : 5,\n",
    "            \"usage\" : \"personal\"\n",
    "            }]\n",
    "\n",
    "\n",
    "df = pd.DataFrame.from_dict(in_data)\n",
    "df4 = model_pipeline.transform(df)\n",
    "df4"
   ]
  },
  {
   "cell_type": "code",
   "execution_count": null,
   "metadata": {},
   "outputs": [],
   "source": [
    "oh = OneHotTransformer()\n",
    "oh.fit_transform(df4)"
   ]
  },
  {
   "cell_type": "code",
   "execution_count": null,
   "metadata": {},
   "outputs": [],
   "source": [
    "df4.columns"
   ]
  },
  {
   "cell_type": "code",
   "execution_count": null,
   "metadata": {},
   "outputs": [],
   "source": []
  },
  {
   "cell_type": "code",
   "execution_count": null,
   "metadata": {},
   "outputs": [],
   "source": []
  },
  {
   "cell_type": "code",
   "execution_count": null,
   "metadata": {},
   "outputs": [],
   "source": [
    "class OneHotTransformer(SklearnOneHotEncoder):\n",
    "    \n",
    "    def __init__(self):\n",
    "        super(OneHotTransformer, self).__init__()\n",
    "        print(\"Initialized OneHotTransformer\") \n",
    "        self.fit_flag = False\n",
    "\n",
    "    def fit(self, X):\n",
    "        out = super().fit(X)\n",
    "        self.fit_flag = True\n",
    "        return out\n",
    "\n",
    "    def transform(self, X):\n",
    "        sparse_matrix = super(OneHotTransformer, self).transform(X)\n",
    "        new_columns = self.get_new_columns(X=X)\n",
    "        print(new_columns)\n",
    "        d_out = pd.DataFrame(sparse_matrix.toarray(), columns=new_columns, index=X.index)\n",
    "        return d_out\n",
    "\n",
    "    def fit_transform(self, X):\n",
    "        self.fit(X)\n",
    "        return self.transform(X)\n",
    "\n",
    "    def get_new_columns(self, X):\n",
    "        new_columns = []\n",
    "        for i, column in enumerate(X.columns):\n",
    "            j = 0\n",
    "            while j < len(self.categories_[i]):\n",
    "                new_columns.append(f'{column}_{self.categories_[i][j]}')\n",
    "                j += 1\n",
    "        return new_columns"
   ]
  },
  {
   "cell_type": "code",
   "execution_count": null,
   "metadata": {},
   "outputs": [],
   "source": [
    "df_final = df4 [['ReliabilityRank', 'CostOfLivingRank', 'PercentSales', 'AvgDaysToTurn',\n",
    "       'ReviewScore', 'AvgMPG', 'age', 'odo', 'owner_0', 'owner_1', 'owner_2',\n",
    "       'usage_FLEET', 'usage_PERSONAL', 'LuxurySportsOrHybrid_N',\n",
    "       'LuxurySportsOrHybrid_U', 'LuxurySportsOrHybrid_Y', 'drivetrain_AWD',\n",
    "       'drivetrain_FWD', 'accidenthist_N', 'accidenthist_Y',\n",
    "       'colorexterior_BLACK', 'colorexterior_BLUE', 'colorexterior_GRAY',\n",
    "       'colorexterior_OTHER', 'colorexterior_RED', 'colorexterior_SILVER',\n",
    "       'colorexterior_WHITE', 'colorinterior_BEIGE', 'colorinterior_BLACK',\n",
    "       'colorinterior_GRAY', 'colorinterior_OTHER', 'bodytype_CONVERTIBLE',\n",
    "       'bodytype_COUPE', 'bodytype_HATCHBACK', 'bodytype_PICKUP',\n",
    "       'bodytype_SEDAN', 'bodytype_SUV', 'bodytype_TRUCK',\n",
    "       'bodytype_VAN/MINIVAN', 'bodytype_WAGON']]"
   ]
  },
  {
   "cell_type": "code",
   "execution_count": null,
   "metadata": {},
   "outputs": [],
   "source": [
    "df_final = df4"
   ]
  },
  {
   "cell_type": "code",
   "execution_count": null,
   "metadata": {},
   "outputs": [],
   "source": []
  },
  {
   "cell_type": "code",
   "execution_count": null,
   "metadata": {},
   "outputs": [],
   "source": []
  },
  {
   "cell_type": "code",
   "execution_count": null,
   "metadata": {},
   "outputs": [],
   "source": [
    "model_pkl_file = \"carprice_stack_model_v1.pkl\"\n",
    "\n",
    "with open(model_pkl_file, 'rb') as file:\n",
    "    stack_model = pickle.load(file)\n",
    "    \n"
   ]
  },
  {
   "cell_type": "code",
   "execution_count": null,
   "metadata": {},
   "outputs": [],
   "source": [
    "# Calculate the accuracy score and predict target values\n",
    "y = stack_model.predict(df_final)\n",
    "y"
   ]
  },
  {
   "cell_type": "code",
   "execution_count": null,
   "metadata": {},
   "outputs": [],
   "source": []
  }
 ],
 "metadata": {
  "kernelspec": {
   "display_name": "Python 3",
   "language": "python",
   "name": "python3"
  },
  "language_info": {
   "codemirror_mode": {
    "name": "ipython",
    "version": 3
   },
   "file_extension": ".py",
   "mimetype": "text/x-python",
   "name": "python",
   "nbconvert_exporter": "python",
   "pygments_lexer": "ipython3",
   "version": "3.6.1"
  }
 },
 "nbformat": 4,
 "nbformat_minor": 2
}
